{
 "cells": [
  {
   "cell_type": "code",
   "execution_count": 1,
   "metadata": {},
   "outputs": [],
   "source": [
    "import boto3\n",
    "import csv\n",
    "from cryptography.fernet import Fernet\n",
    "import json\n",
    "import base64"
   ]
  },
  {
   "cell_type": "code",
   "execution_count": 2,
   "metadata": {},
   "outputs": [
    {
     "data": {
      "text/plain": [
       "'rspamzn'"
      ]
     },
     "execution_count": 2,
     "metadata": {},
     "output_type": "execute_result"
    }
   ],
   "source": [
    "iam = boto3.client('iam')\n",
    "response = response = iam.get_user()\n",
    "user_name = response['User']['UserName']\n",
    "user_name"
   ]
  },
  {
   "cell_type": "code",
   "execution_count": null,
   "metadata": {},
   "outputs": [],
   "source": [
    "iam = boto3.client(\"iam\")\n",
    "\n",
    "policy_document = {\n",
    "    \"Version\": \"2012-10-17\",\n",
    "    \"Statement\": [\n",
    "        {\n",
    "            \"Sid\": \"AllowCreateKey\",\n",
    "            \"Effect\": \"Allow\",\n",
    "            \"Action\": \"kms:*\",\n",
    "            \"Resource\": \"*\"\n",
    "        }\n",
    "    ]\n",
    "}\n",
    "\n",
    "response = iam.create_policy(\n",
    "    PolicyName = 'AllowCreateKey',\n",
    "    PolicyDocument = json.dumps(policy_document)\n",
    ")\n",
    "\n",
    "policy_arn = response['Policy']['Arn']"
   ]
  },
  {
   "cell_type": "code",
   "execution_count": null,
   "metadata": {},
   "outputs": [],
   "source": [
    "iam.attach_user_policy(\n",
    "    UserName = user_name,\n",
    "    PolicyArn = policy_arn\n",
    ")"
   ]
  },
  {
   "cell_type": "code",
   "execution_count": 3,
   "metadata": {},
   "outputs": [],
   "source": [
    "kms = boto3.client('kms')\n",
    "\n",
    "def create_key():\n",
    "    response = kms.create_key(\n",
    "        Description='Key for PII encryption',\n",
    "        KeyUsage='ENCRYPT_DECRYPT',\n",
    "        CustomerMasterKeySpec='SYMMETRIC_DEFAULT',\n",
    "        Origin='AWS_KMS'\n",
    "    )\n",
    "    return response['KeyMetadata']['KeyId']"
   ]
  },
  {
   "cell_type": "code",
   "execution_count": 4,
   "metadata": {},
   "outputs": [],
   "source": [
    "key_id = create_key()"
   ]
  },
  {
   "cell_type": "code",
   "execution_count": 5,
   "metadata": {},
   "outputs": [
    {
     "data": {
      "text/plain": [
       "'8b6c25ff-be39-4b29-ac55-83c7cd8a9540'"
      ]
     },
     "execution_count": 5,
     "metadata": {},
     "output_type": "execute_result"
    }
   ],
   "source": [
    "key_id"
   ]
  },
  {
   "cell_type": "code",
   "execution_count": 8,
   "metadata": {},
   "outputs": [
    {
     "name": "stdout",
     "output_type": "stream",
     "text": [
      "b'\\xdauX\\x8b\\xc2.\\x11+s\\x81\\x95\\xf0\\xa8\\x1a\\x13\\xad\\x89\\xbf\\xa9\\x915x\\xd5\\xbau\\x89\\x9b.F[\\x83\\x7f'\n",
      "b'\\x01\\x02\\x03\\x00x\\x89\\xe52V\\xf8NR\\x99\\xc3\\x80Py\\x9e\\x91\\xd5\\xa2\\xc2\\x1f\\x85\\x08}t\\xc8o4\\xcf\\xd0\\x00\\xe3\\xd1\\xcf\"\\x014\\x95An\\xfc\\xc9\\x12\\x1e\\xb6\\xbe\\xa1\\xbf\\xbekH\\xd9\\x00\\x00\\x00~0|\\x06\\t*\\x86H\\x86\\xf7\\r\\x01\\x07\\x06\\xa0o0m\\x02\\x01\\x000h\\x06\\t*\\x86H\\x86\\xf7\\r\\x01\\x07\\x010\\x1e\\x06\\t`\\x86H\\x01e\\x03\\x04\\x01.0\\x11\\x04\\x0c\\xad\\x01\\x9bQ\\xb1x\\x112\\x0b\\xf8\\x01\\xe6\\x02\\x01\\x10\\x80;\\xed\\xb7i\\xa0\\xb2}L\\x8b\\xbd\\xd36b\\x98I\\xce\\xe8\\xb25!\\x8e\\xee\\xf1Z\\x0b\\xcc\\x1f>\\x1f\\x17\\x8a\\xbe^\\x06H\\xaeM\\x8c\\xae\\xd4\\xb9xn\\x0e\\x9f\\xc2b?87n$\\xa8\\xb7\\xd3Y\\'\\xc5\\x88\\xcd'\n"
     ]
    },
    {
     "data": {
      "text/plain": [
       "b'2nVYi8IuEStzgZXwqBoTrYm_qZE1eNW6dYmbLkZbg38='"
      ]
     },
     "execution_count": 8,
     "metadata": {},
     "output_type": "execute_result"
    }
   ],
   "source": [
    "def retrieve_key(key_id):\n",
    "    response = kms.describe_key(KeyId=key_id)\n",
    "    return response['KeyMetadata']['Arn']\n",
    "\n",
    "key = retrieve_key(key_id)\n",
    "\n",
    "response = kms.generate_data_key(KeyId=key, KeySpec='AES_256')\n",
    "plaintext_datakey = response['Plaintext']\n",
    "encrypted_datakey = response['CiphertextBlob']\n",
    "print(plaintext_datakey)\n",
    "print(encrypted_datakey)\n",
    "fernet_key = base64.urlsafe_b64encode(plaintext_datakey)\n",
    "fernet_key"
   ]
  },
  {
   "cell_type": "code",
   "execution_count": 54,
   "metadata": {},
   "outputs": [
    {
     "data": {
      "text/plain": [
       "<cryptography.fernet.Fernet at 0x7ff773b9a430>"
      ]
     },
     "execution_count": 54,
     "metadata": {},
     "output_type": "execute_result"
    }
   ],
   "source": [
    "cipher_suite = Fernet(fernet_key)\n",
    "cipher_suite"
   ]
  },
  {
   "cell_type": "code",
   "execution_count": 55,
   "metadata": {},
   "outputs": [
    {
     "data": {
      "text/plain": [
       "b'gAAAAABnATmiCVHireMgYwx6bgunAfkyuOhz8p2YaJt3an7V_UJhaQhubN0hztYY_lGf2z6ldRFWVykqIezKRo2rXKah_6uf4auJT4j3Y6ETgI-CjRkTj_0='"
      ]
     },
     "execution_count": 55,
     "metadata": {},
     "output_type": "execute_result"
    }
   ],
   "source": [
    "cipher_text = cipher_suite.encrypt(\"Hello Snickers. Come to me!\".encode('utf-8'))\n",
    "cipher_text\n"
   ]
  },
  {
   "cell_type": "code",
   "execution_count": 56,
   "metadata": {},
   "outputs": [
    {
     "data": {
      "text/plain": [
       "'Hello Snickers. Come to me!'"
      ]
     },
     "execution_count": 56,
     "metadata": {},
     "output_type": "execute_result"
    }
   ],
   "source": [
    "plain_text = cipher_suite.decrypt(cipher_text).decode('utf-8')\n",
    "plain_text"
   ]
  },
  {
   "cell_type": "code",
   "execution_count": 9,
   "metadata": {},
   "outputs": [
    {
     "name": "stdout",
     "output_type": "stream",
     "text": [
      "{'Keys': [{'KeyId': '1a8e1595-b5a8-45c3-ab28-bacbd69b627f', 'KeyArn': 'arn:aws:kms:ap-southeast-1:590183920655:key/1a8e1595-b5a8-45c3-ab28-bacbd69b627f'}, {'KeyId': '8b6c25ff-be39-4b29-ac55-83c7cd8a9540', 'KeyArn': 'arn:aws:kms:ap-southeast-1:590183920655:key/8b6c25ff-be39-4b29-ac55-83c7cd8a9540'}, {'KeyId': 'bf8cce1e-fb5f-42f8-8038-c7717880955e', 'KeyArn': 'arn:aws:kms:ap-southeast-1:590183920655:key/bf8cce1e-fb5f-42f8-8038-c7717880955e'}], 'Truncated': False, 'ResponseMetadata': {'RequestId': '897e8bc2-8b69-4070-813e-abc540b909ae', 'HTTPStatusCode': 200, 'HTTPHeaders': {'x-amzn-requestid': '897e8bc2-8b69-4070-813e-abc540b909ae', 'cache-control': 'no-cache, no-store, must-revalidate, private', 'expires': '0', 'pragma': 'no-cache', 'date': 'Sun, 06 Oct 2024 03:06:20 GMT', 'content-type': 'application/x-amz-json-1.1', 'content-length': '464', 'connection': 'keep-alive'}, 'RetryAttempts': 0}}\n"
     ]
    }
   ],
   "source": [
    "print(kms.list_keys())"
   ]
  },
  {
   "cell_type": "code",
   "execution_count": 32,
   "metadata": {},
   "outputs": [
    {
     "name": "stdout",
     "output_type": "stream",
     "text": [
      "b':\\xb1\\x85\\x1bT\\xe5[\\xd4\\xa8n\\xbeA\\xc4Z\\xf5\\\\\\xf8\\xd2\\xc4Bs\\x1b\\xc3\\xfb\\x06\\xf1\\xc1'\n",
      "OrGFG1TlW9Sobr5BxFr1XPjSxEJzG8P7BvHB\n",
      "len of plaintext: 27\n",
      "len of cyphertext: 27\n",
      "len of base64encoded: 36\n",
      "Hello, Snickers, come here!\n"
     ]
    }
   ],
   "source": [
    "from Crypto.Cipher import AES\n",
    "from Crypto.Util import Counter\n",
    "import os\n",
    "\n",
    "key = os.urandom(16)  # AES key must be either 16, 24, or 32 bytes long\n",
    "iv = os.urandom(8)   # Initialization vector (IV)\n",
    "\n",
    "# Create a counter object\n",
    "ctr = Counter.new(64, prefix=iv)\n",
    "\n",
    "cipher = AES.new(key, AES.MODE_CTR, counter=ctr)\n",
    "\n",
    "plaintext = b'Hello, Snickers, come here!'\n",
    "ciphertext = cipher.encrypt(plaintext)\n",
    "base64_encoded = base64.b64encode(ciphertext).decode('utf-8')\n",
    "print(ciphertext)\n",
    "print(base64_encoded)\n",
    "print(f\"len of plaintext: {len(plaintext)}\")\n",
    "print(f\"len of cyphertext: {len(ciphertext)}\")\n",
    "print(f\"len of base64encoded: {len(base64_encoded)}\")\n",
    "\n",
    "# Decrypting\n",
    "cipher_decrypt = AES.new(key, AES.MODE_CTR, counter=ctr)\n",
    "decrypted = cipher_decrypt.decrypt(base64.b64decode(base64_encoded)).decode('utf-8')\n",
    "\n",
    "print(decrypted)  # Outputs: b'Hello, World!'"
   ]
  },
  {
   "cell_type": "code",
   "execution_count": null,
   "metadata": {},
   "outputs": [],
   "source": []
  }
 ],
 "metadata": {
  "kernelspec": {
   "display_name": "sdu",
   "language": "python",
   "name": "sdu"
  },
  "language_info": {
   "codemirror_mode": {
    "name": "ipython",
    "version": 3
   },
   "file_extension": ".py",
   "mimetype": "text/x-python",
   "name": "python",
   "nbconvert_exporter": "python",
   "pygments_lexer": "ipython3",
   "version": "3.9.16"
  }
 },
 "nbformat": 4,
 "nbformat_minor": 2
}
