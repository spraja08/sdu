{
 "cells": [
  {
   "cell_type": "code",
   "execution_count": 51,
   "metadata": {},
   "outputs": [],
   "source": [
    "import boto3\n",
    "import csv\n",
    "from cryptography.fernet import Fernet\n",
    "import json\n",
    "import base64"
   ]
  },
  {
   "cell_type": "code",
   "execution_count": 52,
   "metadata": {},
   "outputs": [
    {
     "data": {
      "text/plain": [
       "'rspamzn'"
      ]
     },
     "execution_count": 52,
     "metadata": {},
     "output_type": "execute_result"
    }
   ],
   "source": [
    "iam = boto3.client('iam')\n",
    "response = response = iam.get_user()\n",
    "user_name = response['User']['UserName']\n",
    "user_name"
   ]
  },
  {
   "cell_type": "code",
   "execution_count": null,
   "metadata": {},
   "outputs": [],
   "source": [
    "iam = boto3.client(\"iam\")\n",
    "\n",
    "policy_document = {\n",
    "    \"Version\": \"2012-10-17\",\n",
    "    \"Statement\": [\n",
    "        {\n",
    "            \"Sid\": \"AllowCreateKey\",\n",
    "            \"Effect\": \"Allow\",\n",
    "            \"Action\": \"kms:*\",\n",
    "            \"Resource\": \"*\"\n",
    "        }\n",
    "    ]\n",
    "}\n",
    "\n",
    "response = iam.create_policy(\n",
    "    PolicyName = 'AllowCreateKey',\n",
    "    PolicyDocument = json.dumps(policy_document)\n",
    ")\n",
    "\n",
    "policy_arn = response['Policy']['Arn']"
   ]
  },
  {
   "cell_type": "code",
   "execution_count": null,
   "metadata": {},
   "outputs": [],
   "source": [
    "iam.attach_user_policy(\n",
    "    UserName = user_name,\n",
    "    PolicyArn = policy_arn\n",
    ")"
   ]
  },
  {
   "cell_type": "code",
   "execution_count": null,
   "metadata": {},
   "outputs": [],
   "source": [
    "kms = boto3.client('kms')\n",
    "\n",
    "def create_key():\n",
    "    response = kms.create_key(\n",
    "        Description='Key for PII encryption',\n",
    "        KeyUsage='ENCRYPT_DECRYPT',\n",
    "        CustomerMasterKeySpec='SYMMETRIC_DEFAULT',\n",
    "        Origin='AWS_KMS'\n",
    "    )\n",
    "    return response['KeyMetadata']['KeyId']"
   ]
  },
  {
   "cell_type": "code",
   "execution_count": null,
   "metadata": {},
   "outputs": [],
   "source": [
    "key_id = create_key()"
   ]
  },
  {
   "cell_type": "code",
   "execution_count": null,
   "metadata": {},
   "outputs": [],
   "source": [
    "key_id"
   ]
  },
  {
   "cell_type": "code",
   "execution_count": 53,
   "metadata": {},
   "outputs": [
    {
     "data": {
      "text/plain": [
       "b'j4fOrbj-7-Cel9t6Kc3642vZbs5uDh9ijUzi1I16CSk='"
      ]
     },
     "execution_count": 53,
     "metadata": {},
     "output_type": "execute_result"
    }
   ],
   "source": [
    "def retrieve_key(key_id):\n",
    "    response = kms.describe_key(KeyId=key_id)\n",
    "    return response['KeyMetadata']['Arn']\n",
    "\n",
    "key = retrieve_key(key_id)\n",
    "\n",
    "response = kms.generate_data_key(KeyId=key, KeySpec='AES_256')\n",
    "plaintext_datakey = response['Plaintext']\n",
    "fernet_key = base64.urlsafe_b64encode(plaintext_datakey)\n",
    "fernet_key"
   ]
  },
  {
   "cell_type": "code",
   "execution_count": 54,
   "metadata": {},
   "outputs": [
    {
     "data": {
      "text/plain": [
       "<cryptography.fernet.Fernet at 0x7ff773b9a430>"
      ]
     },
     "execution_count": 54,
     "metadata": {},
     "output_type": "execute_result"
    }
   ],
   "source": [
    "cipher_suite = Fernet(fernet_key)\n",
    "cipher_suite"
   ]
  },
  {
   "cell_type": "code",
   "execution_count": 55,
   "metadata": {},
   "outputs": [
    {
     "data": {
      "text/plain": [
       "b'gAAAAABnATmiCVHireMgYwx6bgunAfkyuOhz8p2YaJt3an7V_UJhaQhubN0hztYY_lGf2z6ldRFWVykqIezKRo2rXKah_6uf4auJT4j3Y6ETgI-CjRkTj_0='"
      ]
     },
     "execution_count": 55,
     "metadata": {},
     "output_type": "execute_result"
    }
   ],
   "source": [
    "cipher_text = cipher_suite.encrypt(\"Hello Snickers. Come to me!\".encode('utf-8'))\n",
    "cipher_text\n"
   ]
  },
  {
   "cell_type": "code",
   "execution_count": 56,
   "metadata": {},
   "outputs": [
    {
     "data": {
      "text/plain": [
       "'Hello Snickers. Come to me!'"
      ]
     },
     "execution_count": 56,
     "metadata": {},
     "output_type": "execute_result"
    }
   ],
   "source": [
    "plain_text = cipher_suite.decrypt(cipher_text).decode('utf-8')\n",
    "plain_text"
   ]
  },
  {
   "cell_type": "code",
   "execution_count": null,
   "metadata": {},
   "outputs": [],
   "source": []
  }
 ],
 "metadata": {
  "kernelspec": {
   "display_name": "sdu",
   "language": "python",
   "name": "sdu"
  },
  "language_info": {
   "codemirror_mode": {
    "name": "ipython",
    "version": 3
   },
   "file_extension": ".py",
   "mimetype": "text/x-python",
   "name": "python",
   "nbconvert_exporter": "python",
   "pygments_lexer": "ipython3",
   "version": "3.9.16"
  }
 },
 "nbformat": 4,
 "nbformat_minor": 2
}
